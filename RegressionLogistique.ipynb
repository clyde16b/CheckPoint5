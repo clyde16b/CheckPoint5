{
 "cells": [
  {
   "cell_type": "markdown",
   "metadata": {},
   "source": [
    "# Régréssion logistique"
   ]
  },
  {
   "cell_type": "raw",
   "metadata": {},
   "source": [
    "Important Les bibliothèques Pandas, Numpy, Matplotlib, Seaborn"
   ]
  },
  {
   "cell_type": "code",
   "execution_count": 1,
   "metadata": {},
   "outputs": [],
   "source": [
    "import pandas as pd\n",
    "import numpy as np\n",
    "import matplotlib.pyplot as plt\n",
    "import seaborn as sns"
   ]
  },
  {
   "cell_type": "markdown",
   "metadata": {},
   "source": [
    "Important la data avec pandas"
   ]
  },
  {
   "cell_type": "code",
   "execution_count": 2,
   "metadata": {},
   "outputs": [],
   "source": [
    "df=pd.read_csv(\"titanic-passengers.csv\",\";\")"
   ]
  },
  {
   "cell_type": "code",
   "execution_count": 3,
   "metadata": {},
   "outputs": [
    {
     "data": {
      "text/plain": [
       "(891, 12)"
      ]
     },
     "execution_count": 3,
     "metadata": {},
     "output_type": "execute_result"
    }
   ],
   "source": [
    "df.shape"
   ]
  },
  {
   "cell_type": "raw",
   "metadata": {},
   "source": [
    "la data contiennent 891 lignes et 12 colomnes"
   ]
  },
  {
   "cell_type": "code",
   "execution_count": 5,
   "metadata": {},
   "outputs": [
    {
     "name": "stdout",
     "output_type": "stream",
     "text": [
      "<class 'pandas.core.frame.DataFrame'>\n",
      "RangeIndex: 891 entries, 0 to 890\n",
      "Data columns (total 12 columns):\n",
      " #   Column       Non-Null Count  Dtype  \n",
      "---  ------       --------------  -----  \n",
      " 0   PassengerId  891 non-null    int64  \n",
      " 1   Survived     891 non-null    object \n",
      " 2   Pclass       891 non-null    int64  \n",
      " 3   Name         891 non-null    object \n",
      " 4   Sex          891 non-null    object \n",
      " 5   Age          714 non-null    float64\n",
      " 6   SibSp        891 non-null    int64  \n",
      " 7   Parch        891 non-null    int64  \n",
      " 8   Ticket       891 non-null    object \n",
      " 9   Fare         891 non-null    float64\n",
      " 10  Cabin        204 non-null    object \n",
      " 11  Embarked     889 non-null    object \n",
      "dtypes: float64(2), int64(4), object(6)\n",
      "memory usage: 83.7+ KB\n"
     ]
    }
   ],
   "source": [
    "df.info()"
   ]
  },
  {
   "cell_type": "raw",
   "metadata": {},
   "source": [
    "Ci-dessous les infos sur chacque colomne"
   ]
  },
  {
   "cell_type": "code",
   "execution_count": 7,
   "metadata": {},
   "outputs": [
    {
     "data": {
      "text/html": [
       "<div>\n",
       "<style scoped>\n",
       "    .dataframe tbody tr th:only-of-type {\n",
       "        vertical-align: middle;\n",
       "    }\n",
       "\n",
       "    .dataframe tbody tr th {\n",
       "        vertical-align: top;\n",
       "    }\n",
       "\n",
       "    .dataframe thead th {\n",
       "        text-align: right;\n",
       "    }\n",
       "</style>\n",
       "<table border=\"1\" class=\"dataframe\">\n",
       "  <thead>\n",
       "    <tr style=\"text-align: right;\">\n",
       "      <th></th>\n",
       "      <th>PassengerId</th>\n",
       "      <th>Pclass</th>\n",
       "      <th>Age</th>\n",
       "      <th>SibSp</th>\n",
       "      <th>Parch</th>\n",
       "      <th>Fare</th>\n",
       "    </tr>\n",
       "  </thead>\n",
       "  <tbody>\n",
       "    <tr>\n",
       "      <th>count</th>\n",
       "      <td>891.000000</td>\n",
       "      <td>891.000000</td>\n",
       "      <td>714.000000</td>\n",
       "      <td>891.000000</td>\n",
       "      <td>891.000000</td>\n",
       "      <td>891.000000</td>\n",
       "    </tr>\n",
       "    <tr>\n",
       "      <th>mean</th>\n",
       "      <td>446.000000</td>\n",
       "      <td>2.308642</td>\n",
       "      <td>29.699118</td>\n",
       "      <td>0.523008</td>\n",
       "      <td>0.381594</td>\n",
       "      <td>32.204208</td>\n",
       "    </tr>\n",
       "    <tr>\n",
       "      <th>std</th>\n",
       "      <td>257.353842</td>\n",
       "      <td>0.836071</td>\n",
       "      <td>14.526497</td>\n",
       "      <td>1.102743</td>\n",
       "      <td>0.806057</td>\n",
       "      <td>49.693429</td>\n",
       "    </tr>\n",
       "    <tr>\n",
       "      <th>min</th>\n",
       "      <td>1.000000</td>\n",
       "      <td>1.000000</td>\n",
       "      <td>0.420000</td>\n",
       "      <td>0.000000</td>\n",
       "      <td>0.000000</td>\n",
       "      <td>0.000000</td>\n",
       "    </tr>\n",
       "    <tr>\n",
       "      <th>25%</th>\n",
       "      <td>223.500000</td>\n",
       "      <td>2.000000</td>\n",
       "      <td>20.125000</td>\n",
       "      <td>0.000000</td>\n",
       "      <td>0.000000</td>\n",
       "      <td>7.910400</td>\n",
       "    </tr>\n",
       "    <tr>\n",
       "      <th>50%</th>\n",
       "      <td>446.000000</td>\n",
       "      <td>3.000000</td>\n",
       "      <td>28.000000</td>\n",
       "      <td>0.000000</td>\n",
       "      <td>0.000000</td>\n",
       "      <td>14.454200</td>\n",
       "    </tr>\n",
       "    <tr>\n",
       "      <th>75%</th>\n",
       "      <td>668.500000</td>\n",
       "      <td>3.000000</td>\n",
       "      <td>38.000000</td>\n",
       "      <td>1.000000</td>\n",
       "      <td>0.000000</td>\n",
       "      <td>31.000000</td>\n",
       "    </tr>\n",
       "    <tr>\n",
       "      <th>max</th>\n",
       "      <td>891.000000</td>\n",
       "      <td>3.000000</td>\n",
       "      <td>80.000000</td>\n",
       "      <td>8.000000</td>\n",
       "      <td>6.000000</td>\n",
       "      <td>512.329200</td>\n",
       "    </tr>\n",
       "  </tbody>\n",
       "</table>\n",
       "</div>"
      ],
      "text/plain": [
       "       PassengerId      Pclass         Age       SibSp       Parch        Fare\n",
       "count   891.000000  891.000000  714.000000  891.000000  891.000000  891.000000\n",
       "mean    446.000000    2.308642   29.699118    0.523008    0.381594   32.204208\n",
       "std     257.353842    0.836071   14.526497    1.102743    0.806057   49.693429\n",
       "min       1.000000    1.000000    0.420000    0.000000    0.000000    0.000000\n",
       "25%     223.500000    2.000000   20.125000    0.000000    0.000000    7.910400\n",
       "50%     446.000000    3.000000   28.000000    0.000000    0.000000   14.454200\n",
       "75%     668.500000    3.000000   38.000000    1.000000    0.000000   31.000000\n",
       "max     891.000000    3.000000   80.000000    8.000000    6.000000  512.329200"
      ]
     },
     "execution_count": 7,
     "metadata": {},
     "output_type": "execute_result"
    }
   ],
   "source": [
    "df.describe()"
   ]
  },
  {
   "cell_type": "raw",
   "metadata": {},
   "source": [
    "Créons une matrices X et une vecteur y ou X et la matrice indépendante et et y le vecteur dépendant\n",
    "la matrice X contient les variable suivante: Sex, Pclass et Age\n",
    "le vecteur y contien la variable Survived "
   ]
  },
  {
   "cell_type": "code",
   "execution_count": 8,
   "metadata": {},
   "outputs": [],
   "source": [
    "X=df.iloc[:,[2,4,5]].values\n",
    "y=df.iloc[:,1].values"
   ]
  },
  {
   "cell_type": "markdown",
   "metadata": {},
   "source": [
    "# Gestion des valeurs manquantes"
   ]
  },
  {
   "cell_type": "raw",
   "metadata": {},
   "source": [
    "la variable Âge contient des valeurs Manquant nous allons remplacer ces valeurs par la moyenne"
   ]
  },
  {
   "cell_type": "code",
   "execution_count": 9,
   "metadata": {},
   "outputs": [],
   "source": [
    "from sklearn.impute import SimpleImputer\n",
    "imp=SimpleImputer(missing_values=np.nan , strategy=\"mean\")\n",
    "imp.fit(X[:,2:])\n",
    "X[:,2:]=imp.fit_transform((X[:,2:]))"
   ]
  },
  {
   "cell_type": "markdown",
   "metadata": {},
   "source": [
    "# Gestion des variables catégoriques"
   ]
  },
  {
   "cell_type": "raw",
   "metadata": {},
   "source": [
    "La variable Sex et Pclass sont des variables catégoriques pour la matrice X et survive pour le vecteur y est une variable catégorique aussi"
   ]
  },
  {
   "cell_type": "code",
   "execution_count": 16,
   "metadata": {},
   "outputs": [
    {
     "name": "stdout",
     "output_type": "stream",
     "text": [
      "Matrice X:  [[2 'male' 28.0]\n",
      " [3 'male' 25.0]\n",
      " [3 'male' 20.0]\n",
      " ...\n",
      " [3 'female' 30.0]\n",
      " [3 'male' 29.69911764705882]\n",
      " [2 'female' 19.0]] \n",
      " Vecteur y:  ['No' 'No' 'No' 'No' 'No' 'No' 'No' 'Yes' 'No' 'Yes' 'No' 'No' 'Yes' 'No'\n",
      " 'No' 'No' 'No' 'No' 'No' 'Yes' 'Yes' 'No' 'Yes' 'No' 'Yes' 'No' 'Yes'\n",
      " 'Yes' 'No' 'No' 'No' 'No' 'No' 'No' 'Yes' 'No' 'No' 'Yes' 'No' 'Yes'\n",
      " 'Yes' 'No' 'No' 'No' 'No' 'Yes' 'No' 'No' 'No' 'No' 'No' 'No' 'Yes' 'Yes'\n",
      " 'Yes' 'No' 'No' 'No' 'No' 'No' 'Yes' 'No' 'Yes' 'Yes' 'No' 'No' 'No' 'No'\n",
      " 'No' 'Yes' 'No' 'Yes' 'Yes' 'Yes' 'No' 'No' 'Yes' 'No' 'Yes' 'Yes' 'No'\n",
      " 'No' 'Yes' 'No' 'No' 'No' 'No' 'Yes' 'No' 'No' 'Yes' 'Yes' 'Yes' 'No'\n",
      " 'No' 'No' 'No' 'No' 'Yes' 'No' 'No' 'No' 'No' 'Yes' 'No' 'No' 'No' 'No'\n",
      " 'No' 'No' 'Yes' 'Yes' 'No' 'No' 'Yes' 'No' 'No' 'Yes' 'No' 'No' 'No' 'No'\n",
      " 'No' 'Yes' 'Yes' 'No' 'Yes' 'No' 'Yes' 'No' 'No' 'Yes' 'No' 'No' 'Yes'\n",
      " 'No' 'No' 'Yes' 'No' 'Yes' 'Yes' 'Yes' 'No' 'Yes' 'Yes' 'Yes' 'Yes' 'Yes'\n",
      " 'No' 'No' 'No' 'No' 'No' 'No' 'No' 'No' 'No' 'No' 'No' 'No' 'No' 'No'\n",
      " 'Yes' 'Yes' 'Yes' 'No' 'Yes' 'No' 'Yes' 'Yes' 'No' 'No' 'No' 'No' 'Yes'\n",
      " 'No' 'No' 'Yes' 'No' 'No' 'No' 'No' 'No' 'Yes' 'Yes' 'No' 'No' 'No' 'Yes'\n",
      " 'Yes' 'Yes' 'Yes' 'Yes' 'Yes' 'Yes' 'No' 'No' 'No' 'No' 'No' 'No' 'Yes'\n",
      " 'No' 'No' 'No' 'No' 'No' 'Yes' 'No' 'No' 'No' 'Yes' 'No' 'No' 'No' 'Yes'\n",
      " 'No' 'No' 'Yes' 'No' 'Yes' 'Yes' 'No' 'Yes' 'Yes' 'No' 'Yes' 'No' 'Yes'\n",
      " 'No' 'No' 'No' 'No' 'Yes' 'No' 'Yes' 'No' 'No' 'Yes' 'Yes' 'No' 'No' 'No'\n",
      " 'Yes' 'Yes' 'Yes' 'No' 'No' 'Yes' 'No' 'No' 'No' 'No' 'Yes' 'No' 'Yes'\n",
      " 'No' 'Yes' 'Yes' 'No' 'Yes' 'No' 'No' 'No' 'No' 'Yes' 'No' 'Yes' 'Yes'\n",
      " 'No' 'No' 'Yes' 'Yes' 'Yes' 'No' 'Yes' 'No' 'Yes' 'Yes' 'Yes' 'Yes' 'Yes'\n",
      " 'No' 'No' 'Yes' 'No' 'Yes' 'No' 'No' 'Yes' 'No' 'No' 'No' 'No' 'No' 'Yes'\n",
      " 'Yes' 'Yes' 'Yes' 'Yes' 'No' 'No' 'No' 'No' 'Yes' 'No' 'No' 'No' 'Yes'\n",
      " 'No' 'No' 'Yes' 'No' 'No' 'No' 'No' 'No' 'No' 'No' 'Yes' 'Yes' 'No' 'No'\n",
      " 'Yes' 'Yes' 'Yes' 'Yes' 'No' 'No' 'No' 'Yes' 'No' 'No' 'No' 'No' 'No'\n",
      " 'Yes' 'No' 'No' 'No' 'No' 'No' 'No' 'No' 'No' 'No' 'Yes' 'No' 'No' 'No'\n",
      " 'No' 'No' 'Yes' 'Yes' 'No' 'No' 'No' 'No' 'Yes' 'No' 'Yes' 'Yes' 'No'\n",
      " 'Yes' 'No' 'No' 'No' 'Yes' 'Yes' 'No' 'No' 'No' 'Yes' 'Yes' 'No' 'No'\n",
      " 'Yes' 'No' 'Yes' 'Yes' 'No' 'No' 'No' 'No' 'Yes' 'No' 'Yes' 'Yes' 'No'\n",
      " 'No' 'No' 'No' 'No' 'Yes' 'No' 'Yes' 'Yes' 'No' 'Yes' 'Yes' 'Yes' 'No'\n",
      " 'No' 'No' 'No' 'No' 'No' 'No' 'Yes' 'No' 'No' 'Yes' 'Yes' 'Yes' 'Yes'\n",
      " 'Yes' 'No' 'Yes' 'No' 'No' 'No' 'Yes' 'No' 'No' 'Yes' 'No' 'Yes' 'No'\n",
      " 'Yes' 'No' 'No' 'Yes' 'Yes' 'No' 'No' 'No' 'No' 'No' 'No' 'Yes' 'No'\n",
      " 'Yes' 'No' 'Yes' 'No' 'Yes' 'Yes' 'No' 'Yes' 'No' 'Yes' 'Yes' 'No' 'No'\n",
      " 'Yes' 'No' 'Yes' 'No' 'No' 'Yes' 'No' 'No' 'No' 'No' 'No' 'Yes' 'Yes'\n",
      " 'Yes' 'No' 'Yes' 'Yes' 'No' 'Yes' 'Yes' 'No' 'Yes' 'No' 'No' 'Yes' 'No'\n",
      " 'Yes' 'Yes' 'Yes' 'Yes' 'Yes' 'No' 'Yes' 'No' 'Yes' 'Yes' 'No' 'No' 'Yes'\n",
      " 'Yes' 'No' 'Yes' 'No' 'Yes' 'Yes' 'Yes' 'Yes' 'Yes' 'No' 'No' 'No' 'Yes'\n",
      " 'Yes' 'No' 'Yes' 'No' 'Yes' 'No' 'No' 'Yes' 'No' 'No' 'No' 'No' 'Yes'\n",
      " 'No' 'No' 'No' 'No' 'No' 'No' 'Yes' 'No' 'No' 'No' 'No' 'No' 'No' 'No'\n",
      " 'No' 'No' 'Yes' 'Yes' 'Yes' 'No' 'Yes' 'No' 'No' 'No' 'No' 'Yes' 'No'\n",
      " 'No' 'No' 'No' 'No' 'No' 'No' 'No' 'No' 'No' 'Yes' 'No' 'Yes' 'Yes' 'No'\n",
      " 'No' 'No' 'Yes' 'Yes' 'No' 'No' 'No' 'No' 'No' 'No' 'Yes' 'Yes' 'No' 'No'\n",
      " 'No' 'Yes' 'No' 'Yes' 'No' 'No' 'No' 'No' 'Yes' 'Yes' 'No' 'Yes' 'No'\n",
      " 'No' 'No' 'No' 'No' 'No' 'No' 'Yes' 'Yes' 'Yes' 'No' 'Yes' 'No' 'Yes'\n",
      " 'No' 'Yes' 'No' 'Yes' 'Yes' 'No' 'No' 'Yes' 'Yes' 'No' 'No' 'No' 'No'\n",
      " 'Yes' 'Yes' 'No' 'Yes' 'No' 'No' 'No' 'Yes' 'No' 'No' 'No' 'Yes' 'No'\n",
      " 'No' 'No' 'Yes' 'Yes' 'Yes' 'Yes' 'No' 'No' 'Yes' 'Yes' 'No' 'Yes' 'No'\n",
      " 'No' 'Yes' 'No' 'No' 'Yes' 'No' 'No' 'No' 'No' 'No' 'No' 'No' 'No' 'Yes'\n",
      " 'No' 'No' 'No' 'Yes' 'Yes' 'No' 'Yes' 'Yes' 'Yes' 'No' 'No' 'No' 'No'\n",
      " 'No' 'No' 'No' 'Yes' 'No' 'No' 'No' 'No' 'Yes' 'No' 'No' 'Yes' 'Yes' 'No'\n",
      " 'No' 'No' 'Yes' 'No' 'No' 'No' 'No' 'No' 'No' 'No' 'Yes' 'No' 'Yes' 'Yes'\n",
      " 'Yes' 'Yes' 'No' 'Yes' 'Yes' 'Yes' 'Yes' 'No' 'Yes' 'Yes' 'No' 'No' 'No'\n",
      " 'No' 'No' 'No' 'No' 'No' 'No' 'Yes' 'Yes' 'No' 'Yes' 'No' 'No' 'Yes' 'No'\n",
      " 'No' 'Yes' 'Yes' 'No' 'Yes' 'No' 'Yes' 'No' 'No' 'No' 'Yes' 'Yes' 'Yes'\n",
      " 'No' 'Yes' 'No' 'Yes' 'Yes' 'Yes' 'No' 'No' 'No' 'No' 'Yes' 'No' 'Yes'\n",
      " 'No' 'Yes' 'No' 'No' 'No' 'Yes' 'Yes' 'No' 'Yes' 'Yes' 'Yes' 'No' 'No'\n",
      " 'No' 'No' 'Yes' 'Yes' 'Yes' 'Yes' 'No' 'No' 'No' 'No' 'Yes' 'No' 'No'\n",
      " 'No' 'No' 'Yes' 'No' 'No' 'Yes' 'No' 'No' 'Yes' 'No' 'Yes' 'No' 'Yes'\n",
      " 'Yes' 'No' 'Yes' 'No' 'No' 'Yes' 'Yes' 'Yes' 'No' 'Yes' 'Yes' 'Yes' 'No'\n",
      " 'Yes' 'No' 'Yes' 'No' 'No' 'No' 'Yes' 'Yes' 'No' 'No' 'Yes' 'Yes' 'Yes'\n",
      " 'No' 'No' 'No' 'No' 'No' 'Yes' 'Yes' 'Yes' 'Yes' 'No' 'Yes' 'No' 'Yes'\n",
      " 'No' 'No' 'Yes' 'No' 'No' 'Yes' 'No' 'Yes' 'No' 'No' 'Yes' 'No' 'No' 'No'\n",
      " 'No' 'No' 'Yes' 'No' 'Yes' 'Yes' 'No' 'No' 'Yes' 'Yes' 'No' 'No' 'No'\n",
      " 'No' 'No' 'No' 'No' 'Yes' 'Yes' 'Yes' 'No' 'No' 'No' 'Yes' 'Yes' 'No'\n",
      " 'Yes' 'No' 'No' 'No' 'No' 'No' 'No' 'No' 'No' 'No' 'No' 'No' 'No' 'Yes'\n",
      " 'Yes' 'Yes' 'No' 'Yes' 'No' 'No' 'No' 'Yes' 'No' 'No' 'No' 'Yes']\n"
     ]
    }
   ],
   "source": [
    "print(\"Matrice X: \",X,\"\\n\", \"Vecteur y: \",y)"
   ]
  },
  {
   "cell_type": "raw",
   "metadata": {},
   "source": [
    "Transformons ces varible en 1 et 0 "
   ]
  },
  {
   "cell_type": "code",
   "execution_count": 22,
   "metadata": {},
   "outputs": [],
   "source": [
    "from sklearn.preprocessing import LabelEncoder,OneHotEncoder\n",
    "from sklearn.compose import ColumnTransformer\n",
    "lab_X=LabelEncoder()\n",
    "X[:,1]=lab_X.fit_transform(X[:,1])\n",
    "lab_y=LabelEncoder()\n",
    "y=lab_y.fit_transform(y)\n",
    "y=y.astype('int')"
   ]
  },
  {
   "cell_type": "code",
   "execution_count": 23,
   "metadata": {},
   "outputs": [
    {
     "name": "stdout",
     "output_type": "stream",
     "text": [
      "Matrice X:  [[2 1 28.0]\n",
      " [3 1 25.0]\n",
      " [3 1 20.0]\n",
      " ...\n",
      " [3 0 30.0]\n",
      " [3 1 29.69911764705882]\n",
      " [2 0 19.0]] \n",
      " Vecteur y:  [0 0 0 0 0 0 0 1 0 1 0 0 1 0 0 0 0 0 0 1 1 0 1 0 1 0 1 1 0 0 0 0 0 0 1 0 0\n",
      " 1 0 1 1 0 0 0 0 1 0 0 0 0 0 0 1 1 1 0 0 0 0 0 1 0 1 1 0 0 0 0 0 1 0 1 1 1\n",
      " 0 0 1 0 1 1 0 0 1 0 0 0 0 1 0 0 1 1 1 0 0 0 0 0 1 0 0 0 0 1 0 0 0 0 0 0 1\n",
      " 1 0 0 1 0 0 1 0 0 0 0 0 1 1 0 1 0 1 0 0 1 0 0 1 0 0 1 0 1 1 1 0 1 1 1 1 1\n",
      " 0 0 0 0 0 0 0 0 0 0 0 0 0 0 1 1 1 0 1 0 1 1 0 0 0 0 1 0 0 1 0 0 0 0 0 1 1\n",
      " 0 0 0 1 1 1 1 1 1 1 0 0 0 0 0 0 1 0 0 0 0 0 1 0 0 0 1 0 0 0 1 0 0 1 0 1 1\n",
      " 0 1 1 0 1 0 1 0 0 0 0 1 0 1 0 0 1 1 0 0 0 1 1 1 0 0 1 0 0 0 0 1 0 1 0 1 1\n",
      " 0 1 0 0 0 0 1 0 1 1 0 0 1 1 1 0 1 0 1 1 1 1 1 0 0 1 0 1 0 0 1 0 0 0 0 0 1\n",
      " 1 1 1 1 0 0 0 0 1 0 0 0 1 0 0 1 0 0 0 0 0 0 0 1 1 0 0 1 1 1 1 0 0 0 1 0 0\n",
      " 0 0 0 1 0 0 0 0 0 0 0 0 0 1 0 0 0 0 0 1 1 0 0 0 0 1 0 1 1 0 1 0 0 0 1 1 0\n",
      " 0 0 1 1 0 0 1 0 1 1 0 0 0 0 1 0 1 1 0 0 0 0 0 1 0 1 1 0 1 1 1 0 0 0 0 0 0\n",
      " 0 1 0 0 1 1 1 1 1 0 1 0 0 0 1 0 0 1 0 1 0 1 0 0 1 1 0 0 0 0 0 0 1 0 1 0 1\n",
      " 0 1 1 0 1 0 1 1 0 0 1 0 1 0 0 1 0 0 0 0 0 1 1 1 0 1 1 0 1 1 0 1 0 0 1 0 1\n",
      " 1 1 1 1 0 1 0 1 1 0 0 1 1 0 1 0 1 1 1 1 1 0 0 0 1 1 0 1 0 1 0 0 1 0 0 0 0\n",
      " 1 0 0 0 0 0 0 1 0 0 0 0 0 0 0 0 0 1 1 1 0 1 0 0 0 0 1 0 0 0 0 0 0 0 0 0 0\n",
      " 1 0 1 1 0 0 0 1 1 0 0 0 0 0 0 1 1 0 0 0 1 0 1 0 0 0 0 1 1 0 1 0 0 0 0 0 0\n",
      " 0 1 1 1 0 1 0 1 0 1 0 1 1 0 0 1 1 0 0 0 0 1 1 0 1 0 0 0 1 0 0 0 1 0 0 0 1\n",
      " 1 1 1 0 0 1 1 0 1 0 0 1 0 0 1 0 0 0 0 0 0 0 0 1 0 0 0 1 1 0 1 1 1 0 0 0 0\n",
      " 0 0 0 1 0 0 0 0 1 0 0 1 1 0 0 0 1 0 0 0 0 0 0 0 1 0 1 1 1 1 0 1 1 1 1 0 1\n",
      " 1 0 0 0 0 0 0 0 0 0 1 1 0 1 0 0 1 0 0 1 1 0 1 0 1 0 0 0 1 1 1 0 1 0 1 1 1\n",
      " 0 0 0 0 1 0 1 0 1 0 0 0 1 1 0 1 1 1 0 0 0 0 1 1 1 1 0 0 0 0 1 0 0 0 0 1 0\n",
      " 0 1 0 0 1 0 1 0 1 1 0 1 0 0 1 1 1 0 1 1 1 0 1 0 1 0 0 0 1 1 0 0 1 1 1 0 0\n",
      " 0 0 0 1 1 1 1 0 1 0 1 0 0 1 0 0 1 0 1 0 0 1 0 0 0 0 0 1 0 1 1 0 0 1 1 0 0\n",
      " 0 0 0 0 0 1 1 1 0 0 0 1 1 0 1 0 0 0 0 0 0 0 0 0 0 0 0 1 1 1 0 1 0 0 0 1 0\n",
      " 0 0 1]\n"
     ]
    }
   ],
   "source": [
    "print(\"Matrice X: \",X,\"\\n\", \"Vecteur y: \",y)"
   ]
  },
  {
   "cell_type": "raw",
   "metadata": {},
   "source": [
    "la Varible Pclass de la matrice X est une varible Catégorique avec les  valeurs \"1,2,3\" créons les dummy varible de Pclass"
   ]
  },
  {
   "cell_type": "code",
   "execution_count": 24,
   "metadata": {},
   "outputs": [],
   "source": [
    "col=ColumnTransformer([(\"encouder\",OneHotEncoder(),[0])],remainder=\"passthrough\")\n",
    "X=np.array(col.fit_transform(X),dtype=np.float64)"
   ]
  },
  {
   "cell_type": "code",
   "execution_count": 26,
   "metadata": {},
   "outputs": [
    {
     "name": "stdout",
     "output_type": "stream",
     "text": [
      "Matrice X: \n",
      " [[ 0.          1.          0.          1.         28.        ]\n",
      " [ 0.          0.          1.          1.         25.        ]\n",
      " [ 0.          0.          1.          1.         20.        ]\n",
      " ...\n",
      " [ 0.          0.          1.          0.         30.        ]\n",
      " [ 0.          0.          1.          1.         29.69911765]\n",
      " [ 0.          1.          0.          0.         19.        ]]\n"
     ]
    }
   ],
   "source": [
    "print(\"Matrice X: \\n\",X)"
   ]
  },
  {
   "cell_type": "raw",
   "metadata": {},
   "source": [
    "trois nouvelles variables ont était crée avec les valeurs 1 et 0, pour la classe 2 on aura comme valeur 010 et la classe 3 001 et 1=\"100\"\n",
    "\n",
    "Nous allons supprimer une variable la classe 1: donc on aura les valeurs \"00\" pour cette classe"
   ]
  },
  {
   "cell_type": "code",
   "execution_count": 74,
   "metadata": {},
   "outputs": [],
   "source": [
    "X=X[:,1:]"
   ]
  },
  {
   "cell_type": "markdown",
   "metadata": {},
   "source": [
    "# Diviser le dataset entre le Training set et le Test set"
   ]
  },
  {
   "cell_type": "code",
   "execution_count": 75,
   "metadata": {},
   "outputs": [],
   "source": [
    "from sklearn.model_selection import train_test_split\n",
    "X_train,X_test,y_train,y_test=train_test_split(X,y,test_size=.2, random_state=15)"
   ]
  },
  {
   "cell_type": "markdown",
   "metadata": {},
   "source": [
    "# Construction du modèle"
   ]
  },
  {
   "cell_type": "code",
   "execution_count": 76,
   "metadata": {},
   "outputs": [
    {
     "data": {
      "text/plain": [
       "LogisticRegression()"
      ]
     },
     "execution_count": 76,
     "metadata": {},
     "output_type": "execute_result"
    }
   ],
   "source": [
    "from sklearn.linear_model import LogisticRegression\n",
    "linlog=LogisticRegression()\n",
    "linlog.fit(X_train,y_train)"
   ]
  },
  {
   "cell_type": "markdown",
   "metadata": {},
   "source": [
    "# Faire de nouvelles prédictions"
   ]
  },
  {
   "cell_type": "code",
   "execution_count": 77,
   "metadata": {},
   "outputs": [],
   "source": [
    "y_pred=linlog.predict(X_test)\n",
    "y_pred_proba=linlog.predict_proba(X_test)"
   ]
  },
  {
   "cell_type": "code",
   "execution_count": 78,
   "metadata": {},
   "outputs": [
    {
     "data": {
      "text/plain": [
       "array([[0.48375717, 0.51624283],\n",
       "       [0.11260467, 0.88739533],\n",
       "       [0.94763573, 0.05236427],\n",
       "       [0.07969545, 0.92030455],\n",
       "       [0.65418568, 0.34581432],\n",
       "       [0.87995195, 0.12004805],\n",
       "       [0.91059117, 0.08940883],\n",
       "       [0.50223041, 0.49776959],\n",
       "       [0.23684562, 0.76315438],\n",
       "       [0.48375717, 0.51624283],\n",
       "       [0.90716819, 0.09283181],\n",
       "       [0.14868871, 0.85131129],\n",
       "       [0.88210487, 0.11789513],\n",
       "       [0.91609383, 0.08390617],\n",
       "       [0.08618515, 0.91381485],\n",
       "       [0.47453222, 0.52546778],\n",
       "       [0.87995195, 0.12004805],\n",
       "       [0.87099828, 0.12900172],\n",
       "       [0.72986522, 0.27013478],\n",
       "       [0.1649731 , 0.8350269 ],\n",
       "       [0.87554417, 0.12445583],\n",
       "       [0.1649731 , 0.8350269 ],\n",
       "       [0.17660498, 0.82339502],\n",
       "       [0.93138633, 0.06861367],\n",
       "       [0.24439818, 0.75560182],\n",
       "       [0.92871407, 0.07128593],\n",
       "       [0.90001377, 0.09998623],\n",
       "       [0.50223041, 0.49776959],\n",
       "       [0.88836382, 0.11163618],\n",
       "       [0.07993055, 0.92006945],\n",
       "       [0.91609383, 0.08390617],\n",
       "       [0.88422426, 0.11577574],\n",
       "       [0.93138633, 0.06861367],\n",
       "       [0.92307936, 0.07692064],\n",
       "       [0.70745548, 0.29254452],\n",
       "       [0.23499432, 0.76500568],\n",
       "       [0.70745548, 0.29254452],\n",
       "       [0.91609383, 0.08390617],\n",
       "       [0.1649731 , 0.8350269 ],\n",
       "       [0.77773692, 0.22226308],\n",
       "       [0.87554417, 0.12445583],\n",
       "       [0.06663701, 0.93336299],\n",
       "       [0.6901663 , 0.3098337 ],\n",
       "       [0.77055472, 0.22944528],\n",
       "       [0.48375717, 0.51624283],\n",
       "       [0.1649731 , 0.8350269 ],\n",
       "       [0.89815013, 0.10184987],\n",
       "       [0.25983807, 0.74016193],\n",
       "       [0.6901663 , 0.3098337 ],\n",
       "       [0.02700426, 0.97299574],\n",
       "       [0.21689077, 0.78310923],\n",
       "       [0.23116985, 0.76883015],\n",
       "       [0.83639771, 0.16360229],\n",
       "       [0.92871407, 0.07128593],\n",
       "       [0.94555934, 0.05444066],\n",
       "       [0.66525799, 0.33474201],\n",
       "       [0.46430089, 0.53569911],\n",
       "       [0.04888437, 0.95111563],\n",
       "       [0.76325728, 0.23674272],\n",
       "       [0.86148193, 0.13851807],\n",
       "       [0.88094296, 0.11905704],\n",
       "       [0.90365029, 0.09634971],\n",
       "       [0.8234778 , 0.1765222 ],\n",
       "       [0.26781635, 0.73218365],\n",
       "       [0.47658856, 0.52341144],\n",
       "       [0.91609383, 0.08390617],\n",
       "       [0.22954596, 0.77045404],\n",
       "       [0.925946  , 0.074054  ],\n",
       "       [0.48375717, 0.51624283],\n",
       "       [0.89625575, 0.10374425],\n",
       "       [0.92307936, 0.07692064],\n",
       "       [0.79849876, 0.20150124],\n",
       "       [0.45409952, 0.54590048],\n",
       "       [0.925946  , 0.074054  ],\n",
       "       [0.22236152, 0.77763848],\n",
       "       [0.1888715 , 0.8111285 ],\n",
       "       [0.50223041, 0.49776959],\n",
       "       [0.65604856, 0.34395144],\n",
       "       [0.05936918, 0.94063082],\n",
       "       [0.50223041, 0.49776959],\n",
       "       [0.04700936, 0.95299064],\n",
       "       [0.71588457, 0.28411543],\n",
       "       [0.54831108, 0.45168892],\n",
       "       [0.36497289, 0.63502711],\n",
       "       [0.35550561, 0.64449439],\n",
       "       [0.91609383, 0.08390617],\n",
       "       [0.1649731 , 0.8350269 ],\n",
       "       [0.925946  , 0.074054  ],\n",
       "       [0.94963715, 0.05036285],\n",
       "       [0.06412698, 0.93587302],\n",
       "       [0.91609383, 0.08390617],\n",
       "       [0.06412698, 0.93587302],\n",
       "       [0.77778109, 0.22221891],\n",
       "       [0.69212149, 0.30787851],\n",
       "       [0.24435099, 0.75564901],\n",
       "       [0.77221504, 0.22778496],\n",
       "       [0.74027142, 0.25972858],\n",
       "       [0.9339813 , 0.0660187 ],\n",
       "       [0.10086512, 0.89913488],\n",
       "       [0.38421782, 0.61578218],\n",
       "       [0.35550561, 0.64449439],\n",
       "       [0.65397882, 0.34602118],\n",
       "       [0.2458766 , 0.7541234 ],\n",
       "       [0.1826583 , 0.8173417 ],\n",
       "       [0.91057036, 0.08942964],\n",
       "       [0.63515907, 0.36484093],\n",
       "       [0.91609383, 0.08390617],\n",
       "       [0.42375884, 0.57624116],\n",
       "       [0.8663117 , 0.1336883 ],\n",
       "       [0.36503212, 0.63496788],\n",
       "       [0.35081349, 0.64918651],\n",
       "       [0.93396554, 0.06603446],\n",
       "       [0.8663117 , 0.1336883 ],\n",
       "       [0.95694008, 0.04305992],\n",
       "       [0.79835161, 0.20164839],\n",
       "       [0.95156599, 0.04843401],\n",
       "       [0.91609383, 0.08390617],\n",
       "       [0.91609383, 0.08390617],\n",
       "       [0.31880977, 0.68119023],\n",
       "       [0.22317583, 0.77682417],\n",
       "       [0.93396554, 0.06603446],\n",
       "       [0.50223041, 0.49776959],\n",
       "       [0.49505056, 0.50494944],\n",
       "       [0.51558559, 0.48441441],\n",
       "       [0.91609383, 0.08390617],\n",
       "       [0.48375717, 0.51624283],\n",
       "       [0.08947601, 0.91052399],\n",
       "       [0.38421782, 0.61578218],\n",
       "       [0.91609383, 0.08390617],\n",
       "       [0.8663117 , 0.1336883 ],\n",
       "       [0.73408706, 0.26591294],\n",
       "       [0.53606812, 0.46393188],\n",
       "       [0.55642968, 0.44357032],\n",
       "       [0.09022504, 0.90977496],\n",
       "       [0.70745548, 0.29254452],\n",
       "       [0.91057036, 0.08942964],\n",
       "       [0.19979773, 0.80020227],\n",
       "       [0.50223041, 0.49776959],\n",
       "       [0.50223041, 0.49776959],\n",
       "       [0.94449226, 0.05550774],\n",
       "       [0.1826583 , 0.8173417 ],\n",
       "       [0.81746483, 0.18253517],\n",
       "       [0.85138335, 0.14861665],\n",
       "       [0.91609383, 0.08390617],\n",
       "       [0.79835161, 0.20164839],\n",
       "       [0.90716819, 0.09283181],\n",
       "       [0.91609383, 0.08390617],\n",
       "       [0.90001377, 0.09998623],\n",
       "       [0.58659961, 0.41340039],\n",
       "       [0.58859761, 0.41140239],\n",
       "       [0.10856457, 0.89143543],\n",
       "       [0.68131387, 0.31868613],\n",
       "       [0.79161495, 0.20838505],\n",
       "       [0.50223041, 0.49776959],\n",
       "       [0.90001377, 0.09998623],\n",
       "       [0.83639771, 0.16360229],\n",
       "       [0.90003677, 0.09996323],\n",
       "       [0.56654412, 0.43345588],\n",
       "       [0.86148193, 0.13851807],\n",
       "       [0.13375426, 0.86624574],\n",
       "       [0.50223041, 0.49776959],\n",
       "       [0.48375717, 0.51624283],\n",
       "       [0.74027142, 0.25972858],\n",
       "       [0.63515907, 0.36484093],\n",
       "       [0.95432824, 0.04567176],\n",
       "       [0.50223041, 0.49776959],\n",
       "       [0.91609383, 0.08390617],\n",
       "       [0.48375717, 0.51624283],\n",
       "       [0.20326052, 0.79673948],\n",
       "       [0.08060674, 0.91939326],\n",
       "       [0.93396554, 0.06603446],\n",
       "       [0.1649731 , 0.8350269 ],\n",
       "       [0.35550561, 0.64449439],\n",
       "       [0.72986522, 0.27013478],\n",
       "       [0.50223041, 0.49776959],\n",
       "       [0.92871407, 0.07128593],\n",
       "       [0.21689077, 0.78310923],\n",
       "       [0.87102699, 0.12897301],\n",
       "       [0.91703905, 0.08296095]])"
      ]
     },
     "execution_count": 78,
     "metadata": {},
     "output_type": "execute_result"
    }
   ],
   "source": [
    "y_pred_proba"
   ]
  },
  {
   "cell_type": "raw",
   "metadata": {},
   "source": [
    "Prenons que la deuxième colonne"
   ]
  },
  {
   "cell_type": "code",
   "execution_count": 79,
   "metadata": {},
   "outputs": [
    {
     "data": {
      "text/plain": [
       "array([0.51624283, 0.88739533, 0.05236427, 0.92030455, 0.34581432,\n",
       "       0.12004805, 0.08940883, 0.49776959, 0.76315438, 0.51624283,\n",
       "       0.09283181, 0.85131129, 0.11789513, 0.08390617, 0.91381485,\n",
       "       0.52546778, 0.12004805, 0.12900172, 0.27013478, 0.8350269 ,\n",
       "       0.12445583, 0.8350269 , 0.82339502, 0.06861367, 0.75560182,\n",
       "       0.07128593, 0.09998623, 0.49776959, 0.11163618, 0.92006945,\n",
       "       0.08390617, 0.11577574, 0.06861367, 0.07692064, 0.29254452,\n",
       "       0.76500568, 0.29254452, 0.08390617, 0.8350269 , 0.22226308,\n",
       "       0.12445583, 0.93336299, 0.3098337 , 0.22944528, 0.51624283,\n",
       "       0.8350269 , 0.10184987, 0.74016193, 0.3098337 , 0.97299574,\n",
       "       0.78310923, 0.76883015, 0.16360229, 0.07128593, 0.05444066,\n",
       "       0.33474201, 0.53569911, 0.95111563, 0.23674272, 0.13851807,\n",
       "       0.11905704, 0.09634971, 0.1765222 , 0.73218365, 0.52341144,\n",
       "       0.08390617, 0.77045404, 0.074054  , 0.51624283, 0.10374425,\n",
       "       0.07692064, 0.20150124, 0.54590048, 0.074054  , 0.77763848,\n",
       "       0.8111285 , 0.49776959, 0.34395144, 0.94063082, 0.49776959,\n",
       "       0.95299064, 0.28411543, 0.45168892, 0.63502711, 0.64449439,\n",
       "       0.08390617, 0.8350269 , 0.074054  , 0.05036285, 0.93587302,\n",
       "       0.08390617, 0.93587302, 0.22221891, 0.30787851, 0.75564901,\n",
       "       0.22778496, 0.25972858, 0.0660187 , 0.89913488, 0.61578218,\n",
       "       0.64449439, 0.34602118, 0.7541234 , 0.8173417 , 0.08942964,\n",
       "       0.36484093, 0.08390617, 0.57624116, 0.1336883 , 0.63496788,\n",
       "       0.64918651, 0.06603446, 0.1336883 , 0.04305992, 0.20164839,\n",
       "       0.04843401, 0.08390617, 0.08390617, 0.68119023, 0.77682417,\n",
       "       0.06603446, 0.49776959, 0.50494944, 0.48441441, 0.08390617,\n",
       "       0.51624283, 0.91052399, 0.61578218, 0.08390617, 0.1336883 ,\n",
       "       0.26591294, 0.46393188, 0.44357032, 0.90977496, 0.29254452,\n",
       "       0.08942964, 0.80020227, 0.49776959, 0.49776959, 0.05550774,\n",
       "       0.8173417 , 0.18253517, 0.14861665, 0.08390617, 0.20164839,\n",
       "       0.09283181, 0.08390617, 0.09998623, 0.41340039, 0.41140239,\n",
       "       0.89143543, 0.31868613, 0.20838505, 0.49776959, 0.09998623,\n",
       "       0.16360229, 0.09996323, 0.43345588, 0.13851807, 0.86624574,\n",
       "       0.49776959, 0.51624283, 0.25972858, 0.36484093, 0.04567176,\n",
       "       0.49776959, 0.08390617, 0.51624283, 0.79673948, 0.91939326,\n",
       "       0.06603446, 0.8350269 , 0.64449439, 0.27013478, 0.49776959,\n",
       "       0.07128593, 0.78310923, 0.12897301, 0.08296095])"
      ]
     },
     "execution_count": 79,
     "metadata": {},
     "output_type": "execute_result"
    }
   ],
   "source": [
    "y_pred_proba=y_pred_proba[:,1]\n",
    "y_pred_proba"
   ]
  },
  {
   "cell_type": "markdown",
   "metadata": {},
   "source": [
    "# Matrice de confusion"
   ]
  },
  {
   "cell_type": "code",
   "execution_count": 80,
   "metadata": {},
   "outputs": [],
   "source": [
    "from sklearn.metrics import confusion_matrix\n",
    "cm = confusion_matrix(y_test, y_pred)"
   ]
  },
  {
   "cell_type": "raw",
   "metadata": {},
   "source": [
    "Créons un heatmap avec Seaborn pour visualiser la matrice de confusion"
   ]
  },
  {
   "cell_type": "code",
   "execution_count": 81,
   "metadata": {},
   "outputs": [
    {
     "data": {
      "image/png": "[encoded data removed]",
      "text/plain": [
       "<Figure size 864x576 with 2 Axes>"
      ]
     },
     "metadata": {
      "needs_background": "light"
     },
     "output_type": "display_data"
    }
   ],
   "source": [
    "plt.figure(figsize=(12,8))\n",
    "sns.heatmap(cm,annot=True,fmt=\".0f\")\n",
    "plt.title(\"matrice de confusion\")\n",
    "plt.show()"
   ]
  },
  {
   "cell_type": "raw",
   "metadata": {},
   "source": [
    "Évaluons ce modelé avec quelque score"
   ]
  },
  {
   "cell_type": "code",
   "execution_count": 82,
   "metadata": {},
   "outputs": [
    {
     "name": "stdout",
     "output_type": "stream",
     "text": [
      " accuracy_score= 0.7486033519553073 \n",
      " precision_score= 0.7230769230769231 \n",
      " f1_score= 0.6762589928057553 \n",
      " recall_score= 0.6351351351351351\n"
     ]
    }
   ],
   "source": [
    "from sklearn.metrics import confusion_matrix,accuracy_score,precision_score,f1_score,recall_score\n",
    "print(\" accuracy_score=\",accuracy_score(y_test,y_pred),\"\\n precision_score=\",precision_score(y_test,y_pred),\"\\n f1_score=\",f1_score(y_test,y_pred),\"\\n recall_score=\",recall_score(y_test,y_pred))"
   ]
  },
  {
   "cell_type": "markdown",
   "metadata": {},
   "source": [
    "# Roc_Auc"
   ]
  },
  {
   "cell_type": "code",
   "execution_count": 83,
   "metadata": {},
   "outputs": [
    {
     "data": {
      "image/png": "[encoded data removed]",
      "text/plain": [
       "<Figure size 864x576 with 1 Axes>"
      ]
     },
     "metadata": {
      "needs_background": "light"
     },
     "output_type": "display_data"
    }
   ],
   "source": [
    "from sklearn.metrics import roc_curve, auc\n",
    "fpr, tpr, threshold = roc_curve(y_test,y_pred_proba)\n",
    "roc_auc =auc(fpr, tpr)\n",
    "plt.figure(figsize=(12,8))\n",
    "plt.title('Roc')\n",
    "plt.plot(fpr, tpr, 'b', label = 'AUC = %0.2f' % roc_auc)\n",
    "plt.legend(loc = 'lower right')\n",
    "plt.plot([0, 1], [0, 1],'r--')\n",
    "plt.xlim([0, 1])\n",
    "plt.ylim([0, 1])\n",
    "plt.ylabel('True Positive Rate')\n",
    "plt.xlabel('False Positive Rate')\n",
    "plt.show()"
   ]
  },
  {
   "cell_type": "markdown",
   "metadata": {},
   "source": [
    "#  Faire de nouvelles prédictions"
   ]
  },
  {
   "cell_type": "raw",
   "metadata": {},
   "source": [
    "soit un homme de 38 ans de la classe A selon notre modele soit [00138]"
   ]
  },
  {
   "cell_type": "code",
   "execution_count": 89,
   "metadata": {},
   "outputs": [
    {
     "data": {
      "text/plain": [
       "array([[0.56856776, 0.43143224]])"
      ]
     },
     "execution_count": 89,
     "metadata": {},
     "output_type": "execute_result"
    }
   ],
   "source": [
    "linlog.predict_proba([[0,0,1,38]])"
   ]
  },
  {
   "cell_type": "raw",
   "metadata": {},
   "source": [
    "Selon notre model un homme de 38 ans classe A a 43% de chance de vivre dans le navire mais faut prendre ces résultat avec des pincette car notre data est déséquilibré car y a plus de mort que de vivant soit 62% de mort et il nous faut beacuoup plus de donnée pour avoir un bon résultat "
   ]
  },
  {
   "cell_type": "code",
   "execution_count": 92,
   "metadata": {},
   "outputs": [
    {
     "data": {
      "text/plain": [
       "No     549\n",
       "Yes    342\n",
       "Name: Survived, dtype: int64"
      ]
     },
     "execution_count": 92,
     "metadata": {},
     "output_type": "execute_result"
    }
   ],
   "source": [
    "df['Survived'].value_counts()"
   ]
  },
  {
   "cell_type": "code",
   "execution_count": null,
   "metadata": {},
   "outputs": [],
   "source": []
  }
 ],
 "metadata": {
  "kernelspec": {
   "display_name": "Python 3",
   "language": "python",
   "name": "python3"
  },
  "language_info": {
   "codemirror_mode": {
    "name": "ipython",
    "version": 3
   },
   "file_extension": ".py",
   "mimetype": "text/x-python",
   "name": "python",
   "nbconvert_exporter": "python",
   "pygments_lexer": "ipython3",
   "version": "3.8.5"
  }
 },
 "nbformat": 4,
 "nbformat_minor": 4
}
